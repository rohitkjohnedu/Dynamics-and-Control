{
 "cells": [
  {
   "attachments": {},
   "cell_type": "markdown",
   "metadata": {},
   "source": [
    "# Cart Pendulum: Hamiltonian Dynamics"
   ]
  },
  {
   "cell_type": "code",
   "execution_count": null,
   "metadata": {},
   "outputs": [],
   "source": [
    "from ipywidgets import interact\n",
    "from scipy.integrate import odeint\n",
    "from matplotlib import pyplot as plt\n",
    "from numerical_analysis import *\n",
    "from matplotlib import animation, rc\n",
    "from IPython.display import HTML\n",
    "\n",
    "import sympy  as sp\n",
    "import numpy as np\n",
    "import control as ct\n",
    "import control.matlab as ct_matlab\n",
    "\n",
    "import slycot\n"
   ]
  },
  {
   "attachments": {},
   "cell_type": "markdown",
   "metadata": {},
   "source": [
    "# Deriving the equations"
   ]
  },
  {
   "attachments": {},
   "cell_type": "markdown",
   "metadata": {},
   "source": [
    "### Theory"
   ]
  },
  {
   "attachments": {},
   "cell_type": "markdown",
   "metadata": {},
   "source": [
    "##### Defining the variables\n",
    "In Hamiltonian formulation for this system, the system states are \\\n",
    "$x_1$: Position of the cart along the horizontal (x-axis) \\\n",
    "$p_1$: The conjugate momentum of $x_1$ \\\n",
    "$x_2$: The angle measured along the negative y-axis \\\n",
    "$p_2$: The conjugate momentum of $x_2$ \n",
    "\n",
    "Note that the conjugate momentum need not be the momentum\\angular momentum, such as $p = mv$ or $J = mr^2\\omega$, we use in classical mechanics. It is calculated when we use the Legendre transformation to convert the Lagrangagian to Hamiltonian and is defined by the following equation\n",
    "\n",
    "$\n",
    "\\begin{equation}\n",
    "    p_i = \\frac{\\partial L}{\\partial x_1}\n",
    "\\end{equation}\n",
    "$\n",
    "\n",
    "The Lagrangian $L$ of this system is defined as \n",
    "$\n",
    "\\begin{equation}\n",
    "    L = ke - pe\n",
    "\\end{equation}\n",
    "$\n",
    "where $ke$ is the kinetic energy and $pe$ is the potential energy. Now we substitute $L$ in equation (1) and solve for the velocities as a function of the positions and conjugate momenta.\n",
    "\n",
    "Next we calculate the Hamiltonian using the Legendre transformation\n",
    "$\n",
    "\\begin{equation}\n",
    "    H = x_1 p_1 + x_2 p_2 - L \\\\\n",
    "\\end{equation}\n",
    "$\n",
    "\n",
    "Finally we get the dynamics of this system using the Hamiltons equations, modified to include a control signal\n",
    "$\n",
    "\\begin{equation}\n",
    "    \\begin{aligned}\n",
    "        \\dot{x_1} &=   -\\frac{\\partial H}{\\partial p_1},  \\space \\space  \\dot{p_1} =   \\frac{\\partial H}{\\partial x_1} - u\\\\\n",
    "        \\dot{x_2} &=   -\\frac{\\partial H}{\\partial p_2},  \\space \\space  \\dot{p_2} =   \\frac{\\partial H}{\\partial x_2}  \n",
    "    \\end{aligned}\n",
    "\\end{equation}\n",
    "$\n",
    "\n",
    "Here $u$ is the control signal\n",
    "\n",
    "For more information on Hamiltonian dynamics, I recommend visiting this class taught by a master \\\n",
    "https://www.youtube.com/watch?v=GOkZs2RZMQY&list=PL5E4E56893588CBA8&index=10   "
   ]
  },
  {
   "attachments": {},
   "cell_type": "markdown",
   "metadata": {},
   "source": [
    "### Setting up positions and velocities"
   ]
  },
  {
   "cell_type": "code",
   "execution_count": null,
   "metadata": {},
   "outputs": [],
   "source": [
    "# The function for differentiation is cumbersome\n",
    "# Defining lambdas for brevity\n",
    "ddx = lambda f,x : sp.diff(f,x)\n",
    "ddt = lambda f   : sp.diff(f,t)\n",
    "\n",
    "# System parameters symbols\n",
    "m1, m2, l, g = sp.symbols('m1, m2, l, g')\n",
    "\n",
    "# Dictionary to store their numerical values\n",
    "param_vals = {\n",
    "    \"m1\" : 1,\n",
    "    \"m2\" : 1,\n",
    "    \"g\"  : -10,\n",
    "    \"l\"  : 1\n",
    "}\n",
    "\n",
    "# Time and control input symbols\n",
    "t, u =  sp.symbols('t, u')\n",
    "\n",
    "# System state function symbols\n",
    "# They are functions of time\n",
    "# Position\n",
    "x1 = sp.Function('x1')\n",
    "x2 = sp.Function('x2')\n",
    "# Conjugate momenta\n",
    "p1 = sp.Function('p1')\n",
    "p2 = sp.Function('p2')\n",
    "\n",
    "# Velocities variables\n",
    "v1 = ddt(x1(t))\n",
    "v2 = ddt(x2(t))\n",
    "\n",
    "# Defining the position in the x-y plane\n",
    "cart_x = x1(t)\n",
    "cart_y = 0\n",
    "cart_pos = [cart_x, cart_y]\n",
    "\n",
    "pend_x =  l*sp.sin(x2(t)) + x1(t)\n",
    "pend_y = -l*sp.cos(x2(t))\n",
    "pendulum_pos = [pend_x, pend_y]\n",
    "\n",
    "# Calculating the velocities\n",
    "cart_vel = [ddt(x) for x in cart_pos]\n",
    "pend_vel = [ddt(x) for x in pendulum_pos]\n",
    "\n",
    "# Calculating the sum of velocity squared\n",
    "cart_vel_squared = sum(v**2 for v in cart_vel)\n",
    "pend_vel_squared = sum(v**2 for v in pend_vel)"
   ]
  },
  {
   "attachments": {},
   "cell_type": "markdown",
   "metadata": {},
   "source": [
    "### Calculating energy terms"
   ]
  },
  {
   "cell_type": "code",
   "execution_count": null,
   "metadata": {},
   "outputs": [],
   "source": [
    "# Kinetic energy\n",
    "ke = m1*cart_vel_squared/2 + m2*pend_vel_squared/2\n",
    "\n",
    "# Potential energy\n",
    "pe = -m2*g*pend_y\n",
    "\n",
    "# Lagrangian: \n",
    "L  = ke - pe\n",
    "# We are using the Langragian to express velocities as function \n",
    "# of conjugate momenta and to calculate the Hamiltonian using \n",
    "# a legendre transformation\n",
    "\n",
    "# Equations connecting conjugate momenta and velocities\n",
    "conjugate_momentum_eqs = [\n",
    "    sp.simplify(p1(t) - ddx(L, v1)),\n",
    "    sp.simplify(p2(t) - ddx(L, v2))\n",
    "]\n",
    "\n",
    "# Velcoties as a function of ps\n",
    "vels_sol = sp.solve(conjugate_momentum_eqs, [v1, v2])\n",
    "vels_sol = {v:vels_sol[v].simplify() for v in [v1, v2]}\n",
    "\n",
    "# Legendre transformation: Lagrangian to Hamiltonian\n",
    "H = p1(t)*v1 + p2(t)*v2 - L\n",
    "H = H.subs(vels_sol).simplify()\n",
    "\n"
   ]
  },
  {
   "attachments": {},
   "cell_type": "markdown",
   "metadata": {},
   "source": [
    "#### Dynamics equations"
   ]
  },
  {
   "cell_type": "code",
   "execution_count": null,
   "metadata": {},
   "outputs": [],
   "source": [
    "# Hamiltons equations \n",
    "x1d_exp =  ddx(H, p1(t)).simplify()\n",
    "p1d_exp = -ddx(H, x1(t)).simplify() - u\n",
    "x2d_exp =  ddx(H, p2(t)).simplify()\n",
    "p2d_exp = -ddx(H, x2(t)).simplify()\n",
    "\n",
    "# Expressions to functions\n",
    "to_eq    = lambda eq:sp.lambdify((x1(t), p1(t), x2(t), p2(t), t, u, m1, m2, l, g), eq)\n",
    "DE_eqs   = [x1d_exp, p1d_exp, x2d_exp, p2d_exp]\n",
    "DE_funcs = [to_eq(eq) for eq in DE_eqs]"
   ]
  },
  {
   "attachments": {},
   "cell_type": "markdown",
   "metadata": {},
   "source": [
    "### System dynamics function"
   ]
  },
  {
   "cell_type": "code",
   "execution_count": null,
   "metadata": {},
   "outputs": [],
   "source": [
    "def get_PendulumCartRates_Hamiltonian(X, t, uf, m1, m2, l, g):\n",
    "    X_  = X\n",
    "    u   = uf(X_)\n",
    "    x1, p1, x2, p2 = X_\n",
    "\n",
    "    return [f(x1, p1, x2, p2, t, u, m1, m2, l, g) for f in DE_funcs]"
   ]
  },
  {
   "attachments": {},
   "cell_type": "markdown",
   "metadata": {},
   "source": [
    "# Unforced dynamics"
   ]
  },
  {
   "attachments": {},
   "cell_type": "markdown",
   "metadata": {},
   "source": [
    "#### Animation plotting "
   ]
  },
  {
   "cell_type": "code",
   "execution_count": null,
   "metadata": {},
   "outputs": [],
   "source": [
    "def animte_CartPend(result, ts, Xs):\n",
    "    \"\"\"\n",
    "    Accepts cart state information and returns an animation\n",
    "    \"\"\"\n",
    "    # Extracting the symbols\n",
    "    x1, x2 = Xs\n",
    "\n",
    "    # Setting axes range\n",
    "    x_range = [-3,   3]\n",
    "    y_range = [-1.1, 1.1]\n",
    "    delta   = lambda ls: ls[1] - ls[0]\n",
    "    aspect  = (delta(x_range)) / (delta(y_range))\n",
    "\n",
    "    # setting matplotlib parameters\n",
    "    scale = 3\n",
    "    plt.rcParams['figure.figsize'] = [aspect * scale, scale]\n",
    "    plt.rcParams.update({'font.size': 18})\n",
    "    plt.rcParams['animation.html'] = 'jshtml'\n",
    "\n",
    "\n",
    "    # Selecting the animation range\n",
    "    res_plot = result[::50]\n",
    "    ts_plot  = ts[::50]\n",
    "\n",
    "    # Setting up the plot\n",
    "    fig, ax     = plt.subplots()\n",
    "    pend_plot,  = plt.plot([],[], 'o-', linewidth=2, ms=10, markerfacecolor='r')\n",
    "    cart_plot,  = plt.plot([],[], 'ks', ms=10) \n",
    "\n",
    "    print(type(pend_plot))\n",
    "\n",
    "    def init():\n",
    "        ax.set_xlim(x_range[0], x_range[1])\n",
    "        ax.set_ylim(y_range[0], y_range[1])\n",
    "        ax.set_aspect('equal')\n",
    "\n",
    "    def animate(iter):\n",
    "        x_cart, _, th_pend, _ = res_plot[iter]\n",
    "        sub_obs               = {x1: x_cart, x2: th_pend, l: param_vals[\"l\"]}\n",
    "        x_pend, y_pend        = [sp.N(i.subs(sub_obs)) for i in pendulum_pos]\n",
    "\n",
    "        pend_plot.set_data([x_cart, x_pend],[0, y_pend])\n",
    "        cart_plot.set_data([x_cart]        ,[0])\n",
    "\n",
    "    return animation.FuncAnimation(fig, animate, init_func=init, frames=len(res_plot), interval=50, blit=False, repeat=False)"
   ]
  },
  {
   "attachments": {},
   "cell_type": "markdown",
   "metadata": {},
   "source": [
    "#### Simlation"
   ]
  },
  {
   "cell_type": "code",
   "execution_count": null,
   "metadata": {},
   "outputs": [],
   "source": [
    "# Simulation parameters\n",
    "dt = 0.001\n",
    "t0 = 0\n",
    "tn = 10\n",
    "ts = np.arange(t0, tn, dt)\n",
    "t_span = [0,dt]\n",
    "\n",
    "# initial condition\n",
    "x0  = [0,0,0,2]\n",
    "\n",
    "# We are not controlling. A trial control law\n",
    "control_no = lambda x:0\n",
    "\n",
    "# Integrations\n",
    "out = odeint(get_PendulumCartRates_Hamiltonian, x0, ts, \n",
    "    args=(control_no, param_vals[\"m1\"], param_vals[\"m2\"], param_vals[\"l\"], param_vals[\"g\"])\n",
    ")"
   ]
  },
  {
   "attachments": {},
   "cell_type": "markdown",
   "metadata": {},
   "source": [
    "#### Animation"
   ]
  },
  {
   "cell_type": "code",
   "execution_count": null,
   "metadata": {},
   "outputs": [],
   "source": [
    "anim = animte_CartPend(out, ts, (x1(t), x2(t)))\n",
    "HTML(anim.to_jshtml())"
   ]
  },
  {
   "attachments": {},
   "cell_type": "markdown",
   "metadata": {},
   "source": [
    "# Control"
   ]
  },
  {
   "attachments": {},
   "cell_type": "markdown",
   "metadata": {},
   "source": [
    "### Deriving the Linearised models"
   ]
  },
  {
   "cell_type": "code",
   "execution_count": null,
   "metadata": {},
   "outputs": [],
   "source": [
    "Xs  = [x1(t),   p1(t),      x2(t),   p2(t)]\n",
    "Xds = [x1d_exp, p1d_exp, x2d_exp, p2d_exp]\n",
    "\n",
    "\n",
    "#  the stationary point Substitution. \n",
    "# We are linearising about the vertical, mass up position\n",
    "subs_stationary = {\n",
    "    x2(t) : sp.pi,\n",
    "    p1(t) : 0,\n",
    "    p2(t) : 0\n",
    "}\n",
    "\n",
    "A_sp = sp.Matrix([ [  ddx(xd,x).simplify().subs(subs_stationary) for x in Xs]  for xd in Xds])\n",
    "B_sp = sp.Matrix([ [  ddx(xd,u).simplify().subs(subs_stationary)]              for xd in Xds])"
   ]
  },
  {
   "attachments": {},
   "cell_type": "markdown",
   "metadata": {},
   "source": [
    "### Using LQR to calculate the gain"
   ]
  },
  {
   "cell_type": "code",
   "execution_count": null,
   "metadata": {},
   "outputs": [],
   "source": [
    "# The Parameters for substitution to get numerical values\n",
    "param_subs = {\n",
    "    m1 : param_vals[\"m1\"],\n",
    "    m2 : param_vals[\"m2\"],\n",
    "    g  : param_vals[\"g\"],\n",
    "    l  : param_vals[\"l\"] \n",
    "}\n",
    "\n",
    "# Matrices with numerical values\n",
    "A_np  = np.array(A_sp.subs(param_subs))\n",
    "B_np  = np.array(B_sp.subs(param_subs))\n",
    "Q     = np.eye(4)\n",
    "R     = 0.001\n",
    "\n",
    "# Use the LQR algorithm \n",
    "K_np  = np.array(ct_matlab.lqr(A_np, B_np, Q, R)[0])"
   ]
  },
  {
   "attachments": {},
   "cell_type": "markdown",
   "metadata": {},
   "source": [
    "### Simulating balancing the pendulum"
   ]
  },
  {
   "cell_type": "code",
   "execution_count": null,
   "metadata": {},
   "outputs": [],
   "source": [
    "\n",
    "# Simulation parameters\n",
    "dt = 0.001\n",
    "t0 = 0.0\n",
    "tn = 10.0\n",
    "ts = np.arange(t0, tn, dt)\n",
    "t_step = [0.0, dt]\n",
    "\n",
    "# Initial condition\n",
    "x0  = np.array([0, 0, np.pi-0.8, 0])\n",
    "\n",
    "# Set point\n",
    "xsp = np.array([0, 0, np.pi, 0])\n",
    "\n",
    "# Controller function\n",
    "control_law = lambda x: -(K_np @(x-xsp))[0]\n",
    "\n",
    "# Integrate\n",
    "res_ctrl = odeint(\n",
    "    get_PendulumCartRates_Hamiltonian, x0, ts, \n",
    "    args=(control_law, param_vals[\"m1\"], param_vals[\"m2\"], param_vals[\"l\"], param_vals[\"g\"])\n",
    ")\n"
   ]
  },
  {
   "attachments": {},
   "cell_type": "markdown",
   "metadata": {},
   "source": [
    "### Animation of the result"
   ]
  },
  {
   "cell_type": "code",
   "execution_count": null,
   "metadata": {},
   "outputs": [],
   "source": [
    "anim = animte_CartPend(res_ctrl, ts, (x1(t), x2(t)))\n",
    "HTML(anim.to_jshtml())"
   ]
  }
 ],
 "metadata": {
  "kernelspec": {
   "display_name": "base",
   "language": "python",
   "name": "python3"
  },
  "language_info": {
   "codemirror_mode": {
    "name": "ipython",
    "version": 3
   },
   "file_extension": ".py",
   "mimetype": "text/x-python",
   "name": "python",
   "nbconvert_exporter": "python",
   "pygments_lexer": "ipython3",
   "version": "3.9.12 (main, Apr  4 2022, 05:22:27) [MSC v.1916 64 bit (AMD64)]"
  },
  "orig_nbformat": 4,
  "vscode": {
   "interpreter": {
    "hash": "835930cdab659cfe0998f909845533c8bce739076c1411aa039e952001a7acf8"
   }
  }
 },
 "nbformat": 4,
 "nbformat_minor": 2
}
