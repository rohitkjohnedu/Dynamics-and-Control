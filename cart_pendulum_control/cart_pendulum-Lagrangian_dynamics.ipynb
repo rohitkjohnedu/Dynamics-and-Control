{
 "cells": [
  {
   "attachments": {},
   "cell_type": "markdown",
   "metadata": {},
   "source": [
    "# Cart Pendulum dynamics: Lagrangian mechanics"
   ]
  },
  {
   "cell_type": "code",
   "execution_count": 1,
   "metadata": {},
   "outputs": [],
   "source": [
    "from ipywidgets import interact\n",
    "from scipy.integrate import odeint\n",
    "from matplotlib import pyplot as plt\n",
    "from matplotlib import animation, rc\n",
    "from IPython.display import HTML\n",
    "\n",
    "import sympy  as sp\n",
    "import numpy as np\n",
    "import rich\n",
    "\n",
    "%matplotlib inline"
   ]
  },
  {
   "attachments": {},
   "cell_type": "markdown",
   "metadata": {},
   "source": [
    "# Deriving the equations\n",
    "We will derive the equations using Euler–Lagrange equation.\n",
    "\n",
    "The Pendulum is assumed to be a mass at the end of a massless rod\n",
    "\n",
    "The Variables \n",
    "\n",
    "x : Position of the cart\n",
    "\n",
    "theta : Angles of the pendulum measured from the y axis"
   ]
  },
  {
   "attachments": {},
   "cell_type": "markdown",
   "metadata": {},
   "source": [
    "#### Kinematics"
   ]
  },
  {
   "cell_type": "code",
   "execution_count": null,
   "metadata": {},
   "outputs": [],
   "source": [
    "# Time\n",
    "t  = sp.symbols('t')\n",
    "\n",
    "# Time derivative\n",
    "ddt = lambda x:sp.diff(x,t)\n",
    "\n",
    "# States\n",
    "x   = sp.Function('x')\n",
    "theta   = sp.Function('theta')\n",
    "xd  = ddt(x(t))\n",
    "d_theta  = ddt(theta(t))\n",
    "xdd = ddt(xd)\n",
    "d2_theta = ddt(d_theta)\n",
    "\n",
    "# Control input variable\n",
    "u   = sp.symbols('u')\n",
    "\n",
    "# Parameters\n",
    "m_c, m_p, l, g = sp.symbols('m_c, m_p, l, g')\n",
    "\n",
    "# positions. Here c: cart, p: pendulum\n",
    "cart_x   = x(t)\n",
    "cart_y   = 0\n",
    "cart_pos = [cart_x, cart_y]\n",
    "\n",
    "pendulum_x   =  l*sp.sin(theta(t)) + x(t)\n",
    "pendulum_y   =  l*sp.cos(theta(t))\n",
    "pendulum_pos = [pendulum_x, pendulum_y]\n",
    "\n",
    "# Velocities\n",
    "cart_vel     = [ddt(i) for i in cart_pos]\n",
    "pendulum_vel = [ddt(i) for i in pendulum_pos]\n",
    "\n",
    "cart_v_squared     = sum(i**2 for i in cart_vel)\n",
    "pendulum_v_squared = sum(i**2 for i in pendulum_vel)"
   ]
  },
  {
   "attachments": {},
   "cell_type": "markdown",
   "metadata": {},
   "source": [
    "#### Solving the Langrange equations"
   ]
  },
  {
   "cell_type": "code",
   "execution_count": null,
   "metadata": {},
   "outputs": [],
   "source": [
    "# Energies\n",
    "# Potential energy\n",
    "pe = -m_p*g*pendulum_y\n",
    "\n",
    "# Kinetic energy\n",
    "ke = m_c*cart_v_squared/2   +   m_p*pendulum_v_squared/2\n",
    "\n",
    "# Lagrangian\n",
    "L = ke - pe\n",
    "\n",
    "# The Differential equation\n",
    "DEs = [\n",
    "    ddt(sp.diff(L, xd)) - sp.diff(L, x(t)) - u,\n",
    "    ddt(sp.diff(L, d_theta)) - sp.diff(L, theta(t))\n",
    "]\n",
    "DEs = [DE.simplify() for DE in DEs]\n",
    "\n",
    "# Solving to get explicit values for the two state double derivatives\n",
    "DEexplicit = sp.solve(DEs,           [xdd, d2_theta]) # Solving\n",
    "DEexplicit = [DEexplicit[i] for i in [xdd, d2_theta]] # Extracting the solutions\n",
    "DEexplicit = [DE.simplify() for DE in DEexplicit]  # Simplifying the solution"
   ]
  },
  {
   "attachments": {},
   "cell_type": "markdown",
   "metadata": {},
   "source": [
    "#### Verification test: Center of mass motion"
   ]
  },
  {
   "cell_type": "code",
   "execution_count": null,
   "metadata": {},
   "outputs": [],
   "source": [
    "x_cm = (m_p*pendulum_x + m_c*cart_x )/(m_c + m_p)\n",
    "ddt(ddt(x_cm.simplify())).simplify()"
   ]
  },
  {
   "attachments": {},
   "cell_type": "markdown",
   "metadata": {},
   "source": [
    "#### Expressions to functions"
   ]
  },
  {
   "cell_type": "code",
   "execution_count": null,
   "metadata": {},
   "outputs": [],
   "source": [
    "y1, y2, y1d, y2d = sp.symbols('y1, y2, y1d, y2d')\n",
    "substitutions = {\n",
    "    x(t): y1,\n",
    "    theta(t): y2,\n",
    "\n",
    "    ddt(x(t)): y1d,\n",
    "    ddt(theta(t)): y2d,\n",
    "}\n",
    "\n",
    "y1dd, y2dd    = [i.subs(substitutions) for i in DEexplicit]\n",
    "y1dd_function = sp.lambdify((y1, y1d, y2, y2d, t, u, m_c, m_p, l, g), y1dd) \n",
    "y2dd_function = sp.lambdify((y1, y1d, y2, y2d, t, u, m_c, m_p, l, g), y2dd) "
   ]
  },
  {
   "attachments": {},
   "cell_type": "markdown",
   "metadata": {},
   "source": [
    "# Simulating "
   ]
  },
  {
   "cell_type": "code",
   "execution_count": null,
   "metadata": {},
   "outputs": [],
   "source": [
    "def get_PendulumCartRates(X, t, uf, m_c, m_p, l, g):\n",
    "    X_ = X\n",
    "    u  = uf(X_)\n",
    "    x, v1, theta, v2 = X_\n",
    "    xd = v1\n",
    "    v1d = y1dd_function(x, v1, theta, v2, t, u, m_c, m_p, l, g)\n",
    "    d_theta = v2\n",
    "    v2d = y2dd_function(x, v1, theta, v2, t, u, m_c, m_p, l, g)\n",
    "\n",
    "\n",
    "    return np.array([xd, v1d, d_theta, v2d])"
   ]
  },
  {
   "cell_type": "code",
   "execution_count": null,
   "metadata": {},
   "outputs": [],
   "source": [
    "# System parameters\n",
    "param_vals = {\n",
    "    \"m_c\" : 1,\n",
    "    \"m_p\" : 1,\n",
    "    \"g\"  : -10,\n",
    "    \"l\"  : 1\n",
    "}\n",
    "\n",
    "# No control law, free moving\n",
    "control_no = lambda x:0 \n",
    "\n",
    "# Simulation parameters\n",
    "dt = 0.001\n",
    "t0 = 0.0\n",
    "tn = 10.0\n",
    "ts = np.arange(t0, tn, dt)\n",
    "t_step = [0.0, dt]\n",
    "\n",
    "# Initial condition\n",
    "x0 = np.array([0, 0, np.pi/2, 0])\n",
    "\n",
    "# Integrate\n",
    "result = odeint(\n",
    "    get_PendulumCartRates, x0, ts, \n",
    "    args=(control_no, param_vals[\"m_c\"], param_vals[\"m_p\"], param_vals[\"l\"], param_vals[\"g\"])\n",
    "    )"
   ]
  },
  {
   "attachments": {},
   "cell_type": "markdown",
   "metadata": {},
   "source": [
    "### Plotting setting\n",
    "Makes the plots beautiful"
   ]
  },
  {
   "cell_type": "code",
   "execution_count": null,
   "metadata": {},
   "outputs": [],
   "source": [
    "# plt.style.use('bmh')\n",
    "# plt.style.use('ggplot')\n",
    "# plt.style.use('classic')\n",
    "plt.style.use('fivethirtyeight')\n",
    "\n",
    "plt.rcParams[\"figure.figsize\"]   = (6,6)\n",
    "plt.rcParams[\"figure.dpi\"]       = 100\n",
    "plt.rcParams[\"figure.facecolor\"] = \"ffffff\"\n",
    "\n",
    "plt.rcParams[\"savefig.pad_inches\"] = 0.1\n",
    "plt.rcParams[\"savefig.bbox\"]       = \"tight\"\n",
    "plt.rcParams[\"savefig.facecolor\"]  = \"ffffff\"\n",
    "plt.rcParams[\"savefig.dpi\"]        = 100\n",
    "\n",
    "# General font\n",
    "plt.rcParams[\"font.size\"]        = 14\n",
    "plt.rcParams[\"text.color\"]       = \"black\"\n",
    "\n",
    "# Axis text properties\n",
    "plt.rcParams[\"axes.labelsize\"]   = 20\n",
    "plt.rcParams[\"axes.labelweight\"] = 1000\n",
    "plt.rcParams[\"xtick.color\"]      = \"black\"\n",
    "plt.rcParams[\"ytick.color\"]      = \"black\"\n",
    "\n",
    "# The graph outline, background and grid properties\n",
    "plt.rcParams[\"axes.facecolor\"]   = \"d6ebf2\" # \"e0e0e0\"\n",
    "plt.rcParams[\"axes.grid\"]        = True          \n",
    "plt.rcParams[\"grid.color\"]       = \"white\"\n",
    "plt.rcParams[\"axes.labelcolor\"]  = \"black\"\n",
    "plt.rcParams[\"axes.edgecolor\"]   = \"57adc7\" # \"888888\" # \"black\"\n",
    "plt.rcParams[\"axes.linewidth\"]   = 1\n",
    "\n",
    "# Padding between border and text\n",
    "plt.rcParams[\"axes.titlesize\"]   = 25\n",
    "plt.rcParams[\"axes.titlepad\"]    = 10\n",
    "plt.rcParams[\"axes.titleweight\"] = 500\n",
    "\n",
    "# Legend position reference point\n",
    "plt.rcParams[\"legend.loc\"]       = \"lower center\"\n",
    "plt.rcParams[\"legend.frameon\"]   = True\n",
    "# plt.rcParams[\"legend.shadow\"]    = True\n",
    "# plt.rcParams[\"legend.facecolor\"] = \"e0e0e0\"\n",
    "\n",
    "# The line plot thickness and colors\n",
    "plt.rcParams[\"lines.linewidth\"]  = 2.5\n",
    "# plt.rcParams[\"axes.prop_cycle\"]  = plt.cycler('color', [\n",
    "#       \"#eb7245\",  \"#0066a2\",  \"#f1be3e\",  \"#007188\",  \"#82d7c6\" , \"#82d7c6\", \"#c3312f\"\n",
    "#     ])\n",
    "\n"
   ]
  },
  {
   "cell_type": "code",
   "execution_count": null,
   "metadata": {},
   "outputs": [],
   "source": [
    "def animte_CartPend(result, ts, x_range = [-3,   3], y_range = [-1.1, 1.1], scale = 3):\n",
    "    \"\"\"\n",
    "    Accepts cart state information and returns an animation\n",
    "    \"\"\"\n",
    "    # Setting axes range\n",
    "    delta   = lambda ls: ls[1] - ls[0]\n",
    "    aspect  = (delta(x_range)) / (delta(y_range))\n",
    "\n",
    "    # setting matplotlib parameters\n",
    "    plt.rcParams['figure.figsize'] = [aspect * scale, scale]\n",
    "    plt.rcParams.update({'font.size': 18})\n",
    "    plt.rcParams['animation.html'] = 'jshtml'\n",
    "\n",
    "\n",
    "    # Selecting the animation range\n",
    "    res_plot = result[::50]\n",
    "    ts_plot  = ts[::50]\n",
    "\n",
    "    # Setting up the plot\n",
    "    fig, ax     = plt.subplots()\n",
    "    pend_plot,  = plt.plot([],[], 'o-', linewidth=2, ms=10, markerfacecolor='r')\n",
    "    cart_plot,  = plt.plot([],[], 'ks', ms=10) \n",
    "\n",
    "    print(type(pend_plot))\n",
    "\n",
    "    def init():\n",
    "        ax.set_xlim(x_range[0], x_range[1])\n",
    "        ax.set_ylim(y_range[0], y_range[1])\n",
    "        ax.set_aspect('equal')\n",
    "\n",
    "    def animate(iter):\n",
    "        x_cart, _, th_pend, _ = res_plot[iter]\n",
    "        sub_obs               = {x(t): x_cart, theta(t): th_pend, l: param_vals[\"l\"]}\n",
    "        x_pend, y_pend        = [sp.N(i.subs(sub_obs)) for i in pendulum_pos]\n",
    "\n",
    "        pend_plot.set_data([x_cart, x_pend],[0, y_pend])\n",
    "        cart_plot.set_data([x_cart]        ,[0])\n",
    "\n",
    "    return animation.FuncAnimation(fig, animate, init_func=init, frames=len(res_plot), interval=50, blit=False, repeat=False)"
   ]
  },
  {
   "cell_type": "code",
   "execution_count": null,
   "metadata": {},
   "outputs": [],
   "source": [
    "anim = animte_CartPend(result, ts, x_range=[-1,2], scale=5)\n",
    "HTML(anim.to_jshtml())"
   ]
  }
 ],
 "metadata": {
  "kernelspec": {
   "display_name": "Python 3",
   "language": "python",
   "name": "python3"
  },
  "language_info": {
   "codemirror_mode": {
    "name": "ipython",
    "version": 3
   },
   "file_extension": ".py",
   "mimetype": "text/x-python",
   "name": "python",
   "nbconvert_exporter": "python",
   "pygments_lexer": "ipython3",
   "version": "3.10.4"
  },
  "orig_nbformat": 4,
  "vscode": {
   "interpreter": {
    "hash": "36a0d8ae7ea53d0c2bb98a357b7e4d666f857d54e9cfe25daaf029ef2b61f7f5"
   }
  }
 },
 "nbformat": 4,
 "nbformat_minor": 2
}
