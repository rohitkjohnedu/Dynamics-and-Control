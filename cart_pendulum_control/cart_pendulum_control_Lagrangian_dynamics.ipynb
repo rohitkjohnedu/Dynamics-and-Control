{
 "cells": [
  {
   "attachments": {},
   "cell_type": "markdown",
   "metadata": {},
   "source": [
    "# Cart Pendulum"
   ]
  },
  {
   "attachments": {},
   "cell_type": "markdown",
   "metadata": {},
   "source": [
    "The cart pendulum is a simple device comprising of a pendulum attached to a movable cart. The cart in this example is capable of moving along the horizontal alone. \n",
    "\n",
    "In this notebook, the equations govenring the dynamics of this device will be derived using Lagrangian dynamics and the sympy package. Later, an LQR control will be implemented to maintain the vertical position of the pendulum"
   ]
  },
  {
   "cell_type": "code",
   "execution_count": null,
   "metadata": {},
   "outputs": [],
   "source": [
    "from ipywidgets import interact\n",
    "from scipy.integrate import odeint\n",
    "from matplotlib import pyplot as plt\n",
    "from matplotlib import animation, rc\n",
    "from IPython.display import HTML\n",
    "\n",
    "import sympy  as sp\n",
    "import numpy as np\n",
    "import control as ct\n",
    "import control.matlab as ct_matlab\n",
    "\n"
   ]
  },
  {
   "attachments": {},
   "cell_type": "markdown",
   "metadata": {},
   "source": [
    "# Deriving the equations"
   ]
  },
  {
   "attachments": {},
   "cell_type": "markdown",
   "metadata": {},
   "source": [
    "We will derive the equations using Euler–Lagrange equation.\n",
    "\n",
    "The Pendulum is assumed to be a mass at the end of a massless rod\n",
    "\n",
    "The Variables \n",
    "\n",
    "x1 : Position of the cart\n",
    "\n",
    "x2 : Angles of the pendulum measured from the -y axis"
   ]
  },
  {
   "cell_type": "code",
   "execution_count": null,
   "metadata": {},
   "outputs": [],
   "source": [
    "# Time\n",
    "t  = sp.symbols('t')\n",
    "\n",
    "# Time derivative\n",
    "ddt = lambda x:sp.diff(x,t)\n",
    "\n",
    "# States\n",
    "x1   = sp.Function('x1')\n",
    "x2   = sp.Function('x2')\n",
    "x1d  = ddt(x1(t))\n",
    "x2d  = ddt(x2(t))\n",
    "x1dd = ddt(x1d)\n",
    "x2dd = ddt(x2d)\n",
    "\n",
    "# Control input variable\n",
    "u   = sp.symbols('u')\n",
    "\n",
    "# Parameters\n",
    "m1, m2, l, g = sp.symbols('m1, m2, l, g')\n",
    "\n",
    "# positions. Here c: cart, p: pendulum\n",
    "cart_x   = x1(t)\n",
    "cart_y   = 0\n",
    "cart_pos = [cart_x, cart_y]\n",
    "\n",
    "pendulum_x   =  l*sp.sin(x2(t)) + x1(t)\n",
    "pendulum_y   = -l*sp.cos(x2(t))\n",
    "pendulum_pos = [pendulum_x, pendulum_y]\n",
    "\n",
    "# Velocities\n",
    "cart_vel     = [ddt(i) for i in cart_pos]\n",
    "pendulum_vel = [ddt(i) for i in pendulum_pos]\n",
    "\n",
    "cart_v_squared     = sum(i**2 for i in cart_vel)\n",
    "pendulum_v_squared = sum(i**2 for i in pendulum_vel)\n"
   ]
  },
  {
   "attachments": {},
   "cell_type": "markdown",
   "metadata": {},
   "source": [
    "#### Solving the Langrange equations"
   ]
  },
  {
   "cell_type": "code",
   "execution_count": null,
   "metadata": {},
   "outputs": [],
   "source": [
    "\n",
    "# Energies\n",
    "# Potential energy\n",
    "pe = -m2*g*pendulum_y\n",
    "\n",
    "# Kinetic energy\n",
    "ke = m1*cart_v_squared/2   +   m2*pendulum_v_squared/2\n",
    "\n",
    "# Lagrangian\n",
    "L = ke - pe\n",
    "\n",
    "# The Differential equation\n",
    "DEs = [\n",
    "    ddt(sp.diff(L, x1d)) - sp.diff(L, x1(t)) - u, # Fully coupled\n",
    "    # ddt(ddt(x1(t)))    - u,                     # When you dont want the dynamics of the pendulum to affect the cart\n",
    "    ddt(sp.diff(L, x2d)) - sp.diff(L, x2(t))\n",
    "]\n",
    "DEs = [DE.simplify() for DE in DEs]\n",
    "\n",
    "# Solving to get explicit values for the two state double derivatives\n",
    "DEexplicit = sp.solve(DEs,           [x1dd, x2dd]) # Solving\n",
    "DEexplicit = [DEexplicit[i] for i in [x1dd, x2dd]] # Extracting the solutions\n",
    "DEexplicit = [DE.simplify() for DE in DEexplicit]  # Simplifying the solution"
   ]
  },
  {
   "attachments": {},
   "cell_type": "markdown",
   "metadata": {},
   "source": [
    "#### Substituting the state which are functions of time to plain symbols"
   ]
  },
  {
   "cell_type": "code",
   "execution_count": null,
   "metadata": {},
   "outputs": [],
   "source": [
    "y1, y2, y1d, y2d = sp.symbols('y1, y2, y1d, y2d')\n",
    "substitutions = {\n",
    "    x1(t): y1,\n",
    "    x2(t): y2,\n",
    "\n",
    "    ddt(x1(t)): y1d,\n",
    "    ddt(x2(t)): y2d,\n",
    "}\n",
    "\n",
    "y1dd, y2dd    = [i.subs(substitutions) for i in DEexplicit]\n",
    "y1dd_function = sp.lambdify((y1, y1d, y2, y2d, t, u, m1, m2, l, g), y1dd) \n",
    "y2dd_function = sp.lambdify((y1, y1d, y2, y2d, t, u, m1, m2, l, g), y2dd) \n"
   ]
  },
  {
   "attachments": {},
   "cell_type": "markdown",
   "metadata": {},
   "source": [
    "# Simulating "
   ]
  },
  {
   "cell_type": "code",
   "execution_count": null,
   "metadata": {},
   "outputs": [],
   "source": [
    "def get_PendulumCartRates(X, t, uf, m1, m2, l, g):\n",
    "    X_ = X\n",
    "    u  = uf(X_)\n",
    "    x1, v1, x2, v2 = X_\n",
    "    x1d = v1\n",
    "    v1d = y1dd_function(x1, v1, x2, v2, t, u, m1, m2, l, g)\n",
    "    x2d = v2\n",
    "    v2d = y2dd_function(x1, v1, x2, v2, t, u, m1, m2, l, g)\n",
    "\n",
    "\n",
    "    return np.array([x1d, v1d, x2d, v2d])"
   ]
  },
  {
   "cell_type": "code",
   "execution_count": null,
   "metadata": {},
   "outputs": [],
   "source": [
    "# System parameters\n",
    "param_vals = {\n",
    "    \"m1\" : 1,\n",
    "    \"m2\" : 1,\n",
    "    \"g\"  : -10,\n",
    "    \"l\"  : 1\n",
    "}\n",
    "\n",
    "# No control law, free moving\n",
    "control_no = lambda x:0 \n",
    "\n",
    "# Simulation parameters\n",
    "dt = 0.001\n",
    "t0 = 0.0\n",
    "tn = 10.0\n",
    "ts = np.arange(t0, tn, dt)\n",
    "t_step = [0.0, dt]\n",
    "\n",
    "# Initial condition\n",
    "x0 = np.array([0, 0, np.pi/2, 0])\n",
    "\n",
    "# Integrate\n",
    "result = odeint(\n",
    "    get_PendulumCartRates, x0, ts, \n",
    "    args=(control_no, param_vals[\"m1\"], param_vals[\"m2\"], param_vals[\"l\"], param_vals[\"g\"])\n",
    "    )"
   ]
  },
  {
   "cell_type": "code",
   "execution_count": null,
   "metadata": {},
   "outputs": [],
   "source": [
    "def animte_CartPend(result, ts):\n",
    "    \"\"\"\n",
    "    Accepts cart state information and returns an animation\n",
    "    \"\"\"\n",
    "    # Setting axes range\n",
    "    x_range = [-3,   3]\n",
    "    y_range = [-1.1, 1.1]\n",
    "    delta   = lambda ls: ls[1] - ls[0]\n",
    "    aspect  = (delta(x_range)) / (delta(y_range))\n",
    "\n",
    "    # setting matplotlib parameters\n",
    "    scale = 3\n",
    "    plt.rcParams['figure.figsize'] = [aspect * scale, scale]\n",
    "    plt.rcParams.update({'font.size': 18})\n",
    "    plt.rcParams['animation.html'] = 'jshtml'\n",
    "\n",
    "\n",
    "    # Selecting the animation range\n",
    "    res_plot = result[::50]\n",
    "    ts_plot  = ts[::50]\n",
    "\n",
    "    # Setting up the plot\n",
    "    fig, ax     = plt.subplots()\n",
    "    pend_plot,  = plt.plot([],[], 'o-', linewidth=2, ms=10, markerfacecolor='r')\n",
    "    cart_plot,  = plt.plot([],[], 'ks', ms=10) \n",
    "\n",
    "    print(type(pend_plot))\n",
    "\n",
    "    def init():\n",
    "        ax.set_xlim(x_range[0], x_range[1])\n",
    "        ax.set_ylim(y_range[0], y_range[1])\n",
    "        ax.set_aspect('equal')\n",
    "\n",
    "    def animate(iter):\n",
    "        x_cart, _, th_pend, _ = res_plot[iter]\n",
    "        sub_obs               = {x1(t): x_cart, x2(t): th_pend, l: param_vals[\"l\"]}\n",
    "        x_pend, y_pend        = [sp.N(i.subs(sub_obs)) for i in pendulum_pos]\n",
    "\n",
    "        pend_plot.set_data([x_cart, x_pend],[0, y_pend])\n",
    "        cart_plot.set_data([x_cart]        ,[0])\n",
    "\n",
    "    return animation.FuncAnimation(fig, animate, init_func=init, frames=len(res_plot), interval=50, blit=False, repeat=False)"
   ]
  },
  {
   "cell_type": "code",
   "execution_count": null,
   "metadata": {},
   "outputs": [],
   "source": [
    "\n",
    "anim = animte_CartPend(result, ts)\n",
    "HTML(anim.to_jshtml())\n",
    "        "
   ]
  },
  {
   "attachments": {},
   "cell_type": "markdown",
   "metadata": {},
   "source": [
    "# Control"
   ]
  },
  {
   "attachments": {},
   "cell_type": "markdown",
   "metadata": {},
   "source": [
    "#### Linearizing the systems"
   ]
  },
  {
   "cell_type": "code",
   "execution_count": null,
   "metadata": {},
   "outputs": [],
   "source": [
    "# Storing the cumbersome partial derivative function in a lambda\n",
    "ddx = lambda f,x:sp.diff(f,x)\n",
    "\n",
    "# Defining variables to store rates of change\n",
    "x1d_val,  x2d_val  = x1d, x2d\n",
    "x1dd_val, x2dd_val = DEexplicit\n",
    "\n",
    "# Storing states and their change in variables\n",
    "Xs  = [x1(t),   x1d,      x2(t),   x2d]\n",
    "Xds = [x1d_val, x1dd_val, x2d_val, x2dd_val]\n",
    "\n",
    "#  the stationary point Substitution\n",
    "subs_stationary = {\n",
    "    x2(t)      : sp.pi,\n",
    "    ddt(x2(t)) : 0,\n",
    "    ddt(x1(t)) : 0\n",
    "}\n",
    "\n",
    "A_sp = sp.Matrix([ [  ddx(xd,x).simplify().subs(subs_stationary) for x in Xs]  for xd in Xds])\n",
    "B_sp = sp.Matrix([ [  ddx(xd,u).simplify().subs(subs_stationary)]              for xd in Xds])"
   ]
  },
  {
   "attachments": {},
   "cell_type": "markdown",
   "metadata": {},
   "source": [
    "### LQR tuning"
   ]
  },
  {
   "cell_type": "code",
   "execution_count": null,
   "metadata": {},
   "outputs": [],
   "source": [
    "# The Parameters for substitution to get numerical values\n",
    "param_subs = {\n",
    "    m1 : param_vals[\"m1\"],\n",
    "    m2 : param_vals[\"m2\"],\n",
    "    g  : param_vals[\"g\"],\n",
    "    l  : param_vals[\"l\"] \n",
    "}\n",
    "\n",
    "# Matrices with numerical values\n",
    "A_np  = np.array(A_sp.subs(param_subs))\n",
    "B_np  = np.array(B_sp.subs(param_subs))\n",
    "Q     = np.eye(4)\n",
    "R     = 0.001\n",
    "\n",
    "# Use the LQR algorithm \n",
    "K_np  = np.array(ct_matlab.lqr(A_np, B_np, Q, R)[0])"
   ]
  },
  {
   "cell_type": "code",
   "execution_count": null,
   "metadata": {},
   "outputs": [],
   "source": [
    "\n",
    "# Simulation parameters\n",
    "dt = 0.001\n",
    "t0 = 0.0\n",
    "tn = 10.0\n",
    "ts = np.arange(t0, tn, dt)\n",
    "t_step = [0.0, dt]\n",
    "\n",
    "# Initial condition\n",
    "x0  = np.array([0, 0, np.pi-0.8, 0])\n",
    "\n",
    "# Set point\n",
    "xsp = np.array([0, 0, np.pi, 0])\n",
    "\n",
    "# Controller function\n",
    "control_law = lambda x: -(K_np @(x-xsp))[0]\n",
    "\n",
    "# Integrate\n",
    "res_ctrl = odeint(\n",
    "    get_PendulumCartRates, x0, ts, \n",
    "    args=(control_law, param_vals[\"m1\"], param_vals[\"m2\"], param_vals[\"l\"], param_vals[\"g\"])\n",
    ")\n"
   ]
  },
  {
   "cell_type": "code",
   "execution_count": null,
   "metadata": {},
   "outputs": [],
   "source": [
    "anim = animte_CartPend(res_ctrl, ts)\n",
    "HTML(anim.to_jshtml())"
   ]
  }
 ],
 "metadata": {
  "kernelspec": {
   "display_name": "Python 3",
   "language": "python",
   "name": "python3"
  },
  "language_info": {
   "codemirror_mode": {
    "name": "ipython",
    "version": 3
   },
   "file_extension": ".py",
   "mimetype": "text/x-python",
   "name": "python",
   "nbconvert_exporter": "python",
   "pygments_lexer": "ipython3",
   "version": "3.10.4 (tags/v3.10.4:9d38120, Mar 23 2022, 23:13:41) [MSC v.1929 64 bit (AMD64)]"
  },
  "orig_nbformat": 4,
  "vscode": {
   "interpreter": {
    "hash": "36a0d8ae7ea53d0c2bb98a357b7e4d666f857d54e9cfe25daaf029ef2b61f7f5"
   }
  }
 },
 "nbformat": 4,
 "nbformat_minor": 2
}
